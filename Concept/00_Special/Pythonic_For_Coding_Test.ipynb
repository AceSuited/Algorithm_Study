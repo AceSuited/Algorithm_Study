{
 "metadata": {
  "language_info": {
   "codemirror_mode": {
    "name": "ipython",
    "version": 3
   },
   "file_extension": ".py",
   "mimetype": "text/x-python",
   "name": "python",
   "nbconvert_exporter": "python",
   "pygments_lexer": "ipython3",
   "version": "3.6.9-final"
  },
  "orig_nbformat": 2,
  "kernelspec": {
   "name": "python3",
   "display_name": "Python 3",
   "language": "python"
  }
 },
 "nbformat": 4,
 "nbformat_minor": 2,
 "cells": [
  {
   "source": [
    "Pythonic Code For Coding Test\n",
    "=============================\n",
    "Python은 다른 C-Sytle의 언어 (C, C++, JAVA, ...) 와 다른 특별한 문법들이 많습니다.\n",
    "\n",
    "다만 코딩테스트를 위해 Python을 사용하거나, 기본적인 문법만 공부하고 사용하시는 분들은 Python만의 특유의 문법 (Pythonic 한 코드라고도 합니다.)을 잘 활용하지 못하는 경우가 많습니다.\n",
    "\n",
    "이 자료는 다음과 같은 분들에게 추천합니다.\n",
    "- 파이썬 문법을 알고 있지만 Pythonic한 코드를 작성하는데 어려움을 겪는 분들\n",
    "- C-Style 언어를 사용하다 코딩 테스트를 위해 Python을 사용하시는 분들\n",
    "\n",
    "꼭 모든 내용을 기억할 필요는 없고, 간단하게 30분 정도 시간을 잡고 읽어보시면서 \"이런 문법도 있구나!\"하고 이해하고 넘어가면 좋을 것 같습니다.\n",
    "\n",
    "목차 (예정)\n",
    "-----------\n",
    "내용이 확정되는 대로 작성하겠습니다."
   ],
   "cell_type": "markdown",
   "metadata": {}
  },
  {
   "source": [
    "## Unpacking\n",
    "파이썬으로 알고리즘 문제를 좀 풀다보면 이 문법은 친숙할겁니다."
   ],
   "cell_type": "markdown",
   "metadata": {}
  },
  {
   "cell_type": "code",
   "execution_count": null,
   "metadata": {},
   "outputs": [],
   "source": [
    "a, b = map(int, input().split())"
   ]
  },
  {
   "source": [
    "이것은 iterable (모든 반복 가능한 객체를 iterable 하다고 합니다! 리스트, 튜플, 문자열 등등...) 한 데이터엔 모두 가능한 문법입니다.\n",
    "\n",
    "그런데 이런 상황이 있을 겁니다.\n",
    "\n",
    "> 입력 받은 list에서 첫번째, 마지막 값만 얻고 싶어!\n",
    "\n",
    "또는\n",
    "\n",
    "> 입력 받은 list에서 첫번째, 마지막 값을 제외하고 싶어!\n",
    "\n",
    "이런 경우는 어떻게 해야 할까요?\n"
   ],
   "cell_type": "markdown",
   "metadata": {}
  },
  {
   "source": [
    "_list = [1, 2, 3, 4, 5]\n",
    "first_index, *rest, last_index = _list\n",
    "print(rest)\n"
   ],
   "cell_type": "code",
   "metadata": {},
   "execution_count": 1,
   "outputs": [
    {
     "output_type": "stream",
     "name": "stdout",
     "text": [
      "[2, 3, 4]\n"
     ]
    }
   ]
  },
  {
   "source": [
    "간단하네요?\n",
    "파이썬은 *(asterisk)를 다음과 같은 상황에 사용합니다.\n",
    "\n",
    "- 곱셈, 거듭제곱\n",
    "- List형 컨테이너를 반복해서 확장\n",
    "- 가변 인자\n",
    "- Unpacking\n",
    "\n",
    "위에서 rest에 사용한 것은 가변인자 입니다. 즉, 인자의 갯수가 몇개가 될지 확실하지 않을때 사용하는 거죠.\n",
    "first_index와 last_index가 앞과 끝을 가져가면, rest가 나머지를 가져가는 겁니다.\n",
    "\n",
    "그렇다면 Unpacking은 뭘까요?\n",
    "일단 아래 예시를 보겠습니다."
   ],
   "cell_type": "markdown",
   "metadata": {}
  },
  {
   "cell_type": "code",
   "execution_count": 7,
   "metadata": {},
   "outputs": [],
   "source": [
    "_list = [1, 2, 3, 4, 5]\n",
    "for num in _list:\n",
    "    print(num, end = ' ')"
   ]
  },
  {
   "source": [
    "_list내 원소들을 출력하는 평범한 코드입니다.\n",
    "그렇다면 이건 어떨까요?"
   ],
   "cell_type": "markdown",
   "metadata": {}
  },
  {
   "cell_type": "code",
   "execution_count": null,
   "metadata": {},
   "outputs": [],
   "source": [
    "_list = [1, 2, 3, 4, 5]\n",
    "print(*_list)"
   ]
  },
  {
   "source": [
    "놀랍게도 동일한 결과를 얻을 수 있습니다. 이것을 **List Unpacking** 이라고 부릅니다.\n",
    "\n",
    "사실 list뿐만이 아니라, 컨테이너형 구조에선 모두 적용할 수 있습니다. 튜플에서도 되고, set에서도 가능해요.\n",
    "\n",
    "Unpacking을 이야기 했으니 살짝 다른 이야기를 해보겠습니다. 이건 어떤가요?"
   ],
   "cell_type": "markdown",
   "metadata": {}
  },
  {
   "cell_type": "code",
   "execution_count": 3,
   "metadata": {},
   "outputs": [
    {
     "output_type": "stream",
     "name": "stdout",
     "text": [
      "(1, 2, 3)\n"
     ]
    }
   ],
   "source": [
    "a, b, c = [1, 2, 3]\n",
    "d = a, b, c\n",
    "print(d)"
   ]
  },
  {
   "source": [
    "Reference\n",
    "---------\n",
    "- 파이썬 언어 레퍼런스 [이동][https://docs.python.org/ko/3/reference/index.html]\n",
    "- 전문가를 위한 파이썬 (원제 Fluent Python) - 루시아누 하말류 [구매][https://www.aladin.co.kr/shop/wproduct.aspx?ItemId=88728476]\n",
    "- Python Cookbook - 데이비드 비즐리, 브라이언 K. 존스 [구매][https://www.aladin.co.kr/shop/wproduct.aspx?ItemId=35468006]"
   ],
   "cell_type": "markdown",
   "metadata": {}
  }
 ]
}